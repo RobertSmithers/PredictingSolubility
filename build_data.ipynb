{
 "cells": [
  {
   "cell_type": "markdown",
   "metadata": {},
   "source": [
    "### In this file, we will generate our E0 feature data"
   ]
  },
  {
   "cell_type": "markdown",
   "metadata": {},
   "source": [
    "Instructions: \n",
    "\n",
    "You should start by writing a notebook to create the dataset. Note that if you use many molecules, using MOPAC could take a while. If you decide to optimize the geometry of all the molecules in the Solubility datasets, ot will take at least 12 hours. Make sure to save the result so that you don't have to compute it multiple times!"
   ]
  },
  {
   "cell_type": "code",
   "execution_count": 1,
   "metadata": {},
   "outputs": [],
   "source": [
    "# Pandas dataframe, apply function to whole dataframe\n",
    "# Make sure it works on a small dataset. Save the results\n",
    "# Create dataset associated smiles to energy. Then, run overnight on all data\n",
    "# Once dataset ready, can move on to next step\n",
    "\n",
    "import pandas as pd\n",
    "import os"
   ]
  },
  {
   "cell_type": "code",
   "execution_count": 2,
   "metadata": {},
   "outputs": [
    {
     "name": "stdout",
     "output_type": "stream",
     "text": [
      "Outname is train_data_preview.csv\n",
      "Combined file already exists at specified output path... rename or replace it first.\n",
      "Outname is train_data.csv\n",
      "Combined file already exists at specified output path... rename or replace it first.\n"
     ]
    },
    {
     "data": {
      "text/html": [
       "<div>\n",
       "<style scoped>\n",
       "    .dataframe tbody tr th:only-of-type {\n",
       "        vertical-align: middle;\n",
       "    }\n",
       "\n",
       "    .dataframe tbody tr th {\n",
       "        vertical-align: top;\n",
       "    }\n",
       "\n",
       "    .dataframe thead th {\n",
       "        text-align: right;\n",
       "    }\n",
       "</style>\n",
       "<table border=\"1\" class=\"dataframe\">\n",
       "  <thead>\n",
       "    <tr style=\"text-align: right;\">\n",
       "      <th></th>\n",
       "      <th>ID</th>\n",
       "      <th>Name</th>\n",
       "      <th>InChI</th>\n",
       "      <th>InChIKey</th>\n",
       "      <th>SMILES</th>\n",
       "      <th>Solubility</th>\n",
       "    </tr>\n",
       "  </thead>\n",
       "  <tbody>\n",
       "    <tr>\n",
       "      <th>0</th>\n",
       "      <td>A-1</td>\n",
       "      <td>1,2-dichlorobenzene</td>\n",
       "      <td>InChI=1S/C6H4Cl2/c7-5-3-1-2-4-6(5)8/h1-4H</td>\n",
       "      <td>RFFLAFLAYFXFSW-UHFFFAOYSA-N</td>\n",
       "      <td>Clc1ccccc1Cl</td>\n",
       "      <td>-3.177212</td>\n",
       "    </tr>\n",
       "    <tr>\n",
       "      <th>1</th>\n",
       "      <td>A-2</td>\n",
       "      <td>1,2-dichlorobenzene</td>\n",
       "      <td>InChI=1S/C6H4Cl2/c7-5-3-1-2-4-6(5)8/h1-4H</td>\n",
       "      <td>RFFLAFLAYFXFSW-UHFFFAOYSA-N</td>\n",
       "      <td>Clc1ccccc1Cl</td>\n",
       "      <td>-3.180557</td>\n",
       "    </tr>\n",
       "    <tr>\n",
       "      <th>2</th>\n",
       "      <td>A-3</td>\n",
       "      <td>N,N,N-trimethyloctadecan-1-aminium bromide</td>\n",
       "      <td>InChI=1S/C21H46N.BrH/c1-5-6-7-8-9-10-11-12-13-...</td>\n",
       "      <td>SZEMGTQCPRNXEG-UHFFFAOYSA-M</td>\n",
       "      <td>[Br-].CCCCCCCCCCCCCCCCCC[N+](C)(C)C</td>\n",
       "      <td>-3.616127</td>\n",
       "    </tr>\n",
       "    <tr>\n",
       "      <th>3</th>\n",
       "      <td>A-4</td>\n",
       "      <td>Benzo[cd]indol-2(1H)-one</td>\n",
       "      <td>InChI=1S/C11H7NO/c13-11-8-5-1-3-7-4-2-6-9(12-1...</td>\n",
       "      <td>GPYLCFQEKPUWLD-UHFFFAOYSA-N</td>\n",
       "      <td>O=C1Nc2cccc3cccc1c23</td>\n",
       "      <td>-3.254767</td>\n",
       "    </tr>\n",
       "    <tr>\n",
       "      <th>4</th>\n",
       "      <td>A-5</td>\n",
       "      <td>4-chlorobenzaldehyde</td>\n",
       "      <td>InChI=1S/C7H5ClO/c8-7-3-1-6(5-9)2-4-7/h1-5H</td>\n",
       "      <td>AVPYQKSLYISFPO-UHFFFAOYSA-N</td>\n",
       "      <td>Clc1ccc(C=O)cc1</td>\n",
       "      <td>-2.177078</td>\n",
       "    </tr>\n",
       "    <tr>\n",
       "      <th>...</th>\n",
       "      <td>...</td>\n",
       "      <td>...</td>\n",
       "      <td>...</td>\n",
       "      <td>...</td>\n",
       "      <td>...</td>\n",
       "      <td>...</td>\n",
       "    </tr>\n",
       "    <tr>\n",
       "      <th>89</th>\n",
       "      <td>I-90</td>\n",
       "      <td>trimethoprim</td>\n",
       "      <td>InChI=1S/C14H18N4O3/c1-19-10-5-8(6-11(20-2)12(...</td>\n",
       "      <td>IEDVJHCEMCRBQM-UHFFFAOYSA-N</td>\n",
       "      <td>c1(nc(c(cn1)Cc1cc(c(c(OC)c1)OC)OC)N)N</td>\n",
       "      <td>-2.950000</td>\n",
       "    </tr>\n",
       "    <tr>\n",
       "      <th>90</th>\n",
       "      <td>I-91</td>\n",
       "      <td>trimipramine</td>\n",
       "      <td>InChI=1S/C20H26N2/c1-16(14-21(2)3)15-22-19-10-...</td>\n",
       "      <td>ZSCDBOWYZJWBIY-UHFFFAOYSA-N</td>\n",
       "      <td>CC(CN(C)C)CN1c2ccccc2CCc2ccccc12</td>\n",
       "      <td>-4.790000</td>\n",
       "    </tr>\n",
       "    <tr>\n",
       "      <th>91</th>\n",
       "      <td>I-92</td>\n",
       "      <td>tryptamine</td>\n",
       "      <td>InChI=1S/C10H12N2/c11-6-5-8-7-12-10-4-2-1-3-9(...</td>\n",
       "      <td>APJYDQYYACXCRM-UHFFFAOYSA-N</td>\n",
       "      <td>NCCc1c[nH]c2ccccc12</td>\n",
       "      <td>-3.300000</td>\n",
       "    </tr>\n",
       "    <tr>\n",
       "      <th>92</th>\n",
       "      <td>I-93</td>\n",
       "      <td>verapamil</td>\n",
       "      <td>InChI=1S/C27H38N2O4/c1-20(2)27(19-28,22-10-12-...</td>\n",
       "      <td>SGTNSNPWRIOYBX-UHFFFAOYSA-N</td>\n",
       "      <td>COc1ccc(CCN(C)CCCC(C#N)(C(C)C)c2ccc(OC)c(OC)c2...</td>\n",
       "      <td>-3.980000</td>\n",
       "    </tr>\n",
       "    <tr>\n",
       "      <th>93</th>\n",
       "      <td>I-94</td>\n",
       "      <td>warfarin</td>\n",
       "      <td>InChI=1S/C19H16O4/c1-12(20)11-15(13-7-3-2-4-8-...</td>\n",
       "      <td>PJVWKTKQMONHTI-UHFFFAOYSA-N</td>\n",
       "      <td>CC(=O)CC(c1ccccc1)c1c(O)c2ccccc2oc1=O</td>\n",
       "      <td>-4.780000</td>\n",
       "    </tr>\n",
       "  </tbody>\n",
       "</table>\n",
       "<p>18504 rows × 6 columns</p>\n",
       "</div>"
      ],
      "text/plain": [
       "      ID                                        Name  \\\n",
       "0    A-1                         1,2-dichlorobenzene   \n",
       "1    A-2                         1,2-dichlorobenzene   \n",
       "2    A-3  N,N,N-trimethyloctadecan-1-aminium bromide   \n",
       "3    A-4                    Benzo[cd]indol-2(1H)-one   \n",
       "4    A-5                        4-chlorobenzaldehyde   \n",
       "..   ...                                         ...   \n",
       "89  I-90                                trimethoprim   \n",
       "90  I-91                                trimipramine   \n",
       "91  I-92                                  tryptamine   \n",
       "92  I-93                                   verapamil   \n",
       "93  I-94                                    warfarin   \n",
       "\n",
       "                                                InChI  \\\n",
       "0           InChI=1S/C6H4Cl2/c7-5-3-1-2-4-6(5)8/h1-4H   \n",
       "1           InChI=1S/C6H4Cl2/c7-5-3-1-2-4-6(5)8/h1-4H   \n",
       "2   InChI=1S/C21H46N.BrH/c1-5-6-7-8-9-10-11-12-13-...   \n",
       "3   InChI=1S/C11H7NO/c13-11-8-5-1-3-7-4-2-6-9(12-1...   \n",
       "4         InChI=1S/C7H5ClO/c8-7-3-1-6(5-9)2-4-7/h1-5H   \n",
       "..                                                ...   \n",
       "89  InChI=1S/C14H18N4O3/c1-19-10-5-8(6-11(20-2)12(...   \n",
       "90  InChI=1S/C20H26N2/c1-16(14-21(2)3)15-22-19-10-...   \n",
       "91  InChI=1S/C10H12N2/c11-6-5-8-7-12-10-4-2-1-3-9(...   \n",
       "92  InChI=1S/C27H38N2O4/c1-20(2)27(19-28,22-10-12-...   \n",
       "93  InChI=1S/C19H16O4/c1-12(20)11-15(13-7-3-2-4-8-...   \n",
       "\n",
       "                       InChIKey  \\\n",
       "0   RFFLAFLAYFXFSW-UHFFFAOYSA-N   \n",
       "1   RFFLAFLAYFXFSW-UHFFFAOYSA-N   \n",
       "2   SZEMGTQCPRNXEG-UHFFFAOYSA-M   \n",
       "3   GPYLCFQEKPUWLD-UHFFFAOYSA-N   \n",
       "4   AVPYQKSLYISFPO-UHFFFAOYSA-N   \n",
       "..                          ...   \n",
       "89  IEDVJHCEMCRBQM-UHFFFAOYSA-N   \n",
       "90  ZSCDBOWYZJWBIY-UHFFFAOYSA-N   \n",
       "91  APJYDQYYACXCRM-UHFFFAOYSA-N   \n",
       "92  SGTNSNPWRIOYBX-UHFFFAOYSA-N   \n",
       "93  PJVWKTKQMONHTI-UHFFFAOYSA-N   \n",
       "\n",
       "                                               SMILES  Solubility  \n",
       "0                                        Clc1ccccc1Cl   -3.177212  \n",
       "1                                        Clc1ccccc1Cl   -3.180557  \n",
       "2                 [Br-].CCCCCCCCCCCCCCCCCC[N+](C)(C)C   -3.616127  \n",
       "3                                O=C1Nc2cccc3cccc1c23   -3.254767  \n",
       "4                                     Clc1ccc(C=O)cc1   -2.177078  \n",
       "..                                                ...         ...  \n",
       "89              c1(nc(c(cn1)Cc1cc(c(c(OC)c1)OC)OC)N)N   -2.950000  \n",
       "90                   CC(CN(C)C)CN1c2ccccc2CCc2ccccc12   -4.790000  \n",
       "91                                NCCc1c[nH]c2ccccc12   -3.300000  \n",
       "92  COc1ccc(CCN(C)CCCC(C#N)(C(C)C)c2ccc(OC)c(OC)c2...   -3.980000  \n",
       "93              CC(=O)CC(c1ccccc1)c1c(O)c2ccccc2oc1=O   -4.780000  \n",
       "\n",
       "[18504 rows x 6 columns]"
      ]
     },
     "execution_count": 2,
     "metadata": {},
     "output_type": "execute_result"
    }
   ],
   "source": [
    "# Combine Datasets\n",
    "def generate_combined_dataset(dir_path, fnames, out_name=\"\", debug=False):\n",
    "    combined = None\n",
    "    print(\"Outname is\", out_name)\n",
    "    for f in fnames:\n",
    "        df = pd.read_csv(dir_path + f)\n",
    "        if combined is None:\n",
    "            combined = df.copy()\n",
    "        else:\n",
    "            ## Here we do not check for duplicates as Professor Tristan in class informed me that there should not be any duplicate data between the sets\n",
    "            combined = pd.concat([combined, df])\n",
    "        if debug:\n",
    "            print(\"Added \" + str(f) + \" with dim\", df.shape)\n",
    "    if debug:\n",
    "        print(\"Our combined dataset has\", combined.shape[0], \"rows with\", combined.shape[1], \"features.\")\n",
    "    \n",
    "    if out_name != \"\":\n",
    "        if out_name.endswith(\".csv\"):\n",
    "            if os.path.exists(out_name):\n",
    "                print(\"Combined file already exists at specified output path... rename or replace it first.\")\n",
    "            else:\n",
    "                combined.to_csv(out_name, index=False)\n",
    "        else:\n",
    "            print(\"ERROR: Output filename must end in .csv\")\n",
    "    return combined\n",
    "    \n",
    "# Restriction: \"It is forbidden to use any dataset other than A, B, C, D, F, G, H, I\"\n",
    "# So, we make sure we only use these datasets in our data preparation\n",
    "\n",
    "generate_combined_dataset(\"../MLQC_HW/Data/Solubility/\",\n",
    "                          [\"dataset-H.csv\", \"dataset-I.csv\"],\n",
    "                          \"train_data_preview.csv\")\n",
    "\n",
    "generate_combined_dataset(\"../MLQC_HW/Data/Solubility/\",\n",
    "                          [\"dataset-A.csv\", \"dataset-B.csv\", \"dataset-C.csv\",\n",
    "                          \"dataset-D.csv\", \"dataset-F.csv\", \"dataset-G.csv\",\n",
    "                          \"dataset-H.csv\", \"dataset-I.csv\"], \"train_data.csv\")"
   ]
  },
  {
   "cell_type": "code",
   "execution_count": 3,
   "metadata": {},
   "outputs": [],
   "source": [
    "from rdkit import Chem\n",
    "from rdkit.Chem import AllChem\n",
    "from ase import Atoms\n",
    "from ase.io import read\n",
    "from ase.calculators.mopac import MOPAC\n",
    "\n",
    "from tqdm.notebook import tqdm_notebook\n",
    "\n",
    "# If necessary, can add a batch parameter to start at a given index and to save batches of data at intervals\n",
    "def calc_potential(from_df):\n",
    "    \n",
    "    def get_mopac(smile):\n",
    "        try:\n",
    "            # Create the rdkit molecule object in Cartesian space\n",
    "            mol = Chem.AddHs(Chem.MolFromSmiles(smile))\n",
    "            AllChem.EmbedMolecule(mol)\n",
    "\n",
    "            # Save and reload the information into a mol object from ase (instead of rdkit)\n",
    "            Chem.rdmolfiles.MolToXYZFile(mol, 'init.xyz')\n",
    "            mol = read('init.xyz')\n",
    "\n",
    "            # With this ase object, add quantum mechanic calculations\n",
    "            mol.calc = MOPAC(label='TMP', task='UHF BONDS GRADS')\n",
    "            return mol.get_potential_energy()\n",
    "        except:\n",
    "            pass\n",
    "        \n",
    "    tqdm_notebook.pandas(desc=\"Quantum Calculations for Minimum Potential Energy (Molecule Number)\")\n",
    "    \n",
    "    # Would in theory progress_apply each batch if we needed\n",
    "    \n",
    "    from_df['Min_PE'] = from_df['SMILES'].progress_apply(get_mopac)\n",
    "    return from_df\n",
    "    \n"
   ]
  },
  {
   "cell_type": "markdown",
   "metadata": {},
   "source": [
    "# CAUTION TEAM ELECTRON\n",
    "You only need to run your own code block here. I chunked it out so each of us have about an even amount of data to churn through so we can do this at 3x speed. Be advised it may take ~30 hours to go through all of this data, so for this reason I have it save to the csv file every time you complete one of the data sets. That's why there are multiple lines of calculating and saving"
   ]
  },
  {
   "cell_type": "code",
   "execution_count": 4,
   "metadata": {},
   "outputs": [],
   "source": [
    "data_path = \"../MLQC_HW/Data/Solubility/\""
   ]
  },
  {
   "cell_type": "code",
   "execution_count": null,
   "metadata": {},
   "outputs": [],
   "source": [
    "### RJ run this ###\n",
    "\n",
    "# Will do C, D, F (I already did H and I while testing)\n",
    "\n",
    "# C\n",
    "new_df = calc_potential(pd.read_csv(data_path + \"dataset-C.csv\"))\n",
    "\n",
    "# Only keep our SMILES and Min_PE\n",
    "new_df[[\"SMILES\", \"Min_PE\"]].to_csv('Data/pe_data_C.csv', index=False)\n"
   ]
  },
  {
   "cell_type": "code",
   "execution_count": null,
   "metadata": {},
   "outputs": [],
   "source": [
    "### RJ run this ###\n",
    "# D\n",
    "new_df = calc_potential(pd.read_csv(data_path + \"dataset-D.csv\"))\n",
    "new_df[[\"SMILES\", \"Min_PE\"]].to_csv('Data/pe_data_D.csv', index=False)"
   ]
  },
  {
   "cell_type": "code",
   "execution_count": null,
   "metadata": {},
   "outputs": [],
   "source": [
    "# F\n",
    "new_df = calc_potential(pd.read_csv(data_path + \"dataset-F.csv\"))\n",
    "new_df[[\"SMILES\", \"Min_PE\"]].to_csv('Data/pe_data_F.csv', index=False)"
   ]
  },
  {
   "cell_type": "code",
   "execution_count": null,
   "metadata": {},
   "outputs": [],
   "source": [
    "### RONAN RUN THIS ###\n",
    "\n",
    "# This will do the computations on dataset A\n",
    "\n",
    "# A\n",
    "new_df = calc_potential(pd.read_csv(data_path + \"dataset-A.csv\"))\n",
    "new_df[[\"SMILES\", \"Min_PE\"]].to_csv('Data/pe_data_A.csv', index=False)"
   ]
  },
  {
   "cell_type": "code",
   "execution_count": null,
   "metadata": {},
   "outputs": [],
   "source": [
    "### JOSHUA RUN THIS ###\n",
    "\n",
    "# This will do the computations on dataset B, G\n",
    "\n",
    "# B\n",
    "new_df = calc_potential(pd.read_csv(data_path + \"dataset-B.csv\"))\n",
    "new_df[[\"SMILES\", \"Min_PE\"]].to_csv('Data/pe_data_B.csv', index=False)"
   ]
  },
  {
   "cell_type": "code",
   "execution_count": 5,
   "metadata": {},
   "outputs": [
    {
     "name": "stderr",
     "output_type": "stream",
     "text": [
      "/opt/conda/lib/python3.8/site-packages/tqdm/std.py:702: FutureWarning: The Panel class is removed from pandas. Accessing it from the top-level namespace will also be removed in the next version\n",
      "  from pandas import Panel\n"
     ]
    },
    {
     "data": {
      "application/vnd.jupyter.widget-view+json": {
       "model_id": "b655502d68ec4aea9133f83ca0d62fe7",
       "version_major": 2,
       "version_minor": 0
      },
      "text/plain": [
       "Quantum Calculations for Minimum Potential Energy (Molecule Number):   0%|          | 0/1144 [00:00<?, ?it/s]"
      ]
     },
     "metadata": {},
     "output_type": "display_data"
    }
   ],
   "source": [
    "### JOSHUA RUN THIS ###\n",
    "# G\n",
    "new_df = calc_potential(pd.read_csv(data_path + \"dataset-G.csv\"))\n",
    "new_df[[\"SMILES\", \"Min_PE\"]].to_csv('Data/pe_data_G.csv', index=False)"
   ]
  },
  {
   "cell_type": "code",
   "execution_count": null,
   "metadata": {},
   "outputs": [],
   "source": []
  }
 ],
 "metadata": {
  "kernelspec": {
   "display_name": "Python 3",
   "language": "python",
   "name": "python3"
  },
  "language_info": {
   "codemirror_mode": {
    "name": "ipython",
    "version": 3
   },
   "file_extension": ".py",
   "mimetype": "text/x-python",
   "name": "python",
   "nbconvert_exporter": "python",
   "pygments_lexer": "ipython3",
   "version": "3.8.6"
  }
 },
 "nbformat": 4,
 "nbformat_minor": 4
}
