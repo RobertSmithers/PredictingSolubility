{
 "cells": [
  {
   "cell_type": "markdown",
   "id": "novel-curtis",
   "metadata": {},
   "source": [
    "## In this file, we will define our dataset"
   ]
  },
  {
   "cell_type": "code",
   "execution_count": 14,
   "id": "indian-maple",
   "metadata": {},
   "outputs": [],
   "source": [
    "import pandas as pd\n",
    "import numpy as np\n",
    "import torch\n",
    "from dgl.data import DGLDataset\n",
    "from dgl.data.utils import save_graphs, load_graphs\n",
    "\n",
    "from dgl.dataloading.pytorch import GraphDataLoader"
   ]
  },
  {
   "cell_type": "markdown",
   "id": "commercial-villa",
   "metadata": {},
   "source": [
    "### Dataset"
   ]
  },
  {
   "cell_type": "code",
   "execution_count": 19,
   "id": "ethical-graphics",
   "metadata": {},
   "outputs": [],
   "source": [
    "# Structure built from https://docs.dgl.ai/tutorials/blitz/6_load_data.html#sphx-glr-tutorials-blitz-6-load-data-py\n",
    "\n",
    "class SyntheticDataset(DGLDataset):\n",
    "    def __init__(self):\n",
    "        super().__init__(name='synthetic')\n",
    "\n",
    "# Load the pandas csv and take the minimum potential energy column\n",
    "        \n",
    "    def process(self):\n",
    "        pe_data = pd.read_csv('./Data/pe_data_combined.csv')\n",
    "        self.graphs = load_graphs(\"./DataGraphs/combined_graph.bin\")\n",
    "#         print((len(pe_data), len(self.graphs[0])))\n",
    "#         assert(len(pe_data) == len(self.graphs[0]))\n",
    "        self.labels = pe_data[\"Min_PE\"]\n",
    "\n",
    "        # Convert the label list to tensor for saving.\n",
    "        self.labels = torch.tensor(self.labels)\n",
    "        \n",
    "    def __getitem__(self, i):\n",
    "        return self.graphs[0][i], self.labels[i]\n",
    "\n",
    "    def __len__(self):\n",
    "        return len(self.graphs[0])"
   ]
  },
  {
   "cell_type": "code",
   "execution_count": null,
   "id": "aboriginal-memphis",
   "metadata": {},
   "outputs": [],
   "source": []
  }
 ],
 "metadata": {
  "kernelspec": {
   "display_name": "Python 3 (ipykernel)",
   "language": "python",
   "name": "python3"
  },
  "language_info": {
   "codemirror_mode": {
    "name": "ipython",
    "version": 3
   },
   "file_extension": ".py",
   "mimetype": "text/x-python",
   "name": "python",
   "nbconvert_exporter": "python",
   "pygments_lexer": "ipython3",
   "version": "3.9.7"
  }
 },
 "nbformat": 4,
 "nbformat_minor": 5
}
