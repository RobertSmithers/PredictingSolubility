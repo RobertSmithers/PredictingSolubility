{
 "cells": [
  {
   "cell_type": "markdown",
   "metadata": {},
   "source": [
    "### In this file, we will reconstruct our data into graphs"
   ]
  },
  {
   "cell_type": "markdown",
   "metadata": {},
   "source": [
    "Instructions: You should probably have another separate notebook that creates the graph version of the dataset. Again, you should save the data, and for this make use to use the save_graph and load_graph functions of DGL.\n",
    "\n",
    "Important Libraries:\n",
    "ase\n",
    "Structure/Geometry of a molecule"
   ]
  },
  {
   "cell_type": "code",
   "execution_count": 5,
   "metadata": {},
   "outputs": [
    {
     "name": "stdout",
     "output_type": "stream",
     "text": [
      "Defaulting to user installation because normal site-packages is not writeable\n",
      "Collecting ase\n",
      "  Downloading ase-3.22.0-py3-none-any.whl (2.2 MB)\n",
      "     |████████████████████████████████| 2.2 MB 7.3 MB/s            \n",
      "\u001b[?25hRequirement already satisfied: scipy>=1.1.0 in /home/jupyter-smitherr/.local/lib/python3.9/site-packages (from ase) (1.7.2)\n",
      "Requirement already satisfied: numpy>=1.15.0 in /home/jupyter-smitherr/.local/lib/python3.9/site-packages (from ase) (1.21.4)\n",
      "Collecting matplotlib>=3.1.0\n",
      "  Downloading matplotlib-3.5.0-cp39-cp39-manylinux_2_5_x86_64.manylinux1_x86_64.whl (11.2 MB)\n",
      "     |████████████████████████████████| 11.2 MB 46.3 MB/s            \n",
      "\u001b[?25hRequirement already satisfied: pyparsing>=2.2.1 in /opt/tljh/user/lib/python3.9/site-packages (from matplotlib>=3.1.0->ase) (2.4.7)\n",
      "Collecting pillow>=6.2.0\n",
      "  Downloading Pillow-8.4.0-cp39-cp39-manylinux_2_17_x86_64.manylinux2014_x86_64.whl (3.1 MB)\n",
      "     |████████████████████████████████| 3.1 MB 55.9 MB/s            \n",
      "\u001b[?25hRequirement already satisfied: python-dateutil>=2.7 in /opt/tljh/user/lib/python3.9/site-packages (from matplotlib>=3.1.0->ase) (2.8.2)\n",
      "Collecting kiwisolver>=1.0.1\n",
      "  Downloading kiwisolver-1.3.2-cp39-cp39-manylinux_2_12_x86_64.manylinux2010_x86_64.whl (1.6 MB)\n",
      "     |████████████████████████████████| 1.6 MB 70.1 MB/s            \n",
      "\u001b[?25hCollecting cycler>=0.10\n",
      "  Downloading cycler-0.11.0-py3-none-any.whl (6.4 kB)\n",
      "Collecting fonttools>=4.22.0\n",
      "  Downloading fonttools-4.28.1-py3-none-any.whl (873 kB)\n",
      "     |████████████████████████████████| 873 kB 65.4 MB/s            \n",
      "\u001b[?25hCollecting setuptools-scm>=4\n",
      "  Downloading setuptools_scm-6.3.2-py3-none-any.whl (33 kB)\n",
      "Requirement already satisfied: packaging>=20.0 in /opt/tljh/user/lib/python3.9/site-packages (from matplotlib>=3.1.0->ase) (21.2)\n",
      "Requirement already satisfied: six>=1.5 in /opt/tljh/user/lib/python3.9/site-packages (from python-dateutil>=2.7->matplotlib>=3.1.0->ase) (1.16.0)\n",
      "Requirement already satisfied: setuptools in /opt/tljh/user/lib/python3.9/site-packages (from setuptools-scm>=4->matplotlib>=3.1.0->ase) (58.2.0)\n",
      "Collecting tomli>=1.0.0\n",
      "  Downloading tomli-1.2.2-py3-none-any.whl (12 kB)\n",
      "Installing collected packages: tomli, setuptools-scm, pillow, kiwisolver, fonttools, cycler, matplotlib, ase\n",
      "\u001b[33m  WARNING: The scripts fonttools, pyftmerge, pyftsubset and ttx are installed in '/home/jupyter-smitherr/.local/bin' which is not on PATH.\n",
      "  Consider adding this directory to PATH or, if you prefer to suppress this warning, use --no-warn-script-location.\u001b[0m\n",
      "\u001b[33m  WARNING: The scripts ase, ase-build, ase-db, ase-gui, ase-info and ase-run are installed in '/home/jupyter-smitherr/.local/bin' which is not on PATH.\n",
      "  Consider adding this directory to PATH or, if you prefer to suppress this warning, use --no-warn-script-location.\u001b[0m\n",
      "Successfully installed ase-3.22.0 cycler-0.11.0 fonttools-4.28.1 kiwisolver-1.3.2 matplotlib-3.5.0 pillow-8.4.0 setuptools-scm-6.3.2 tomli-1.2.2\n"
     ]
    }
   ],
   "source": [
    "!pip install ase"
   ]
  },
  {
   "cell_type": "code",
   "execution_count": 41,
   "metadata": {},
   "outputs": [],
   "source": [
    "import pandas as pd\n",
    "import torch\n",
    "from rdkit import Chem\n",
    "from rdkit.Chem import AllChem\n",
    "from ase.io import read, write\n",
    "from dgllife.utils import smiles_to_bigraph, featurizers\n",
    "from dgl.data.utils import save_graphs, load_graphs\n",
    "\n",
    "import os"
   ]
  },
  {
   "cell_type": "markdown",
   "metadata": {},
   "source": [
    "### Explanation of features:"
   ]
  },
  {
   "cell_type": "code",
   "execution_count": 57,
   "metadata": {},
   "outputs": [],
   "source": [
    "# atom_type_one_hot -- provides the type of an atom via a list of one-hot encodings; this will allow our model to know what atom type is associated with the other feature values of a given atom\n",
    "# atomic_number -- provides the atomic number of an atom; similar to our atom type one-hot encodings, this will help our model understand the type of the atom associated with the additional given feature values for that atom\n",
    "# atom_is_aromatic -- indicates whether an atom is aromatic; this lets our model know whether a given atom is part of a ring bonding structure, i.e, a chain of unhybridized p-orbitals, which proves useful when analyzing smiles strings\n",
    "# atom_hybridization_one_hot -- provides the hybridization type of an atom via a list of one-hot encodings; this feature is useful in conjunction with the atom_is_aromatic feature as it gives the model more insight into types of orbitals and bonding structures\n",
    "# atom_degree -- gives the degree of an atom; this lets the model know the number of atoms (not including hydrogens) bonded to a given atom, allowing the model to better understand a given molecule's bonding\n",
    "# atom_total_degree -- gives the degree of an atom, this time including hydrogens; using this feature in conjunction with atom_degree informs the model about how many atoms are bonded to a particular atom, and how many of those atoms are/are not hydrogens\n",
    "# atom_explicit_valence -- provides the explicit valence of an atom; this informs the model about how many hydrogens are EXPLICITLY bonded to a given atom\n",
    "# atom_implicit_valence -- provides the implicit valence of an atom; this informs the model about how many hydrogens are IMPLICITLY bonded to a given atom\n",
    "# atom_total_num_H -- provides the number of Hs bonded to an atom; used in conjunction with atom_total_degree, atom_explicit_valence, and atom_implicit_valence, this feature further enhances our model's understanding of the bonding of each atom in a given molecule\n",
    "# atom_formal_charge -- provides the formal charge of an atom; this gives our model additional insight into an atom's number of valence electrons, number of nonbonding valence electrons, and the number of electrons shared in the atom's bonds\n",
    "# atom_num_radical_electrons -- provides the number of radical electrons of an atom; this lets the model know how many of an atom's valence electrons are unpaired, which is useful because it gives the model insight into how chemically reactive the atom/overall molecule is\n",
    "# atom_is_in_ring -- indicates whether an atom is part of a ring; this informs the model about whether the atom is part of a ring bonding structure, which is useful given that an atom's hybridization is another feature we've included for the model to consider\n",
    "# atom_potential_energy -- indicates the minimum potential energy of a given atom; this feature is useful as it enables our model to consider the sum of the minimum potential energies of all atoms in a given molecule\n",
    "# atom_mass -- gives the mass of an atom (scaled to prevent values from being unnecessarily large); we include this feature in case the model might find correlations between the values of an atom's mass and its other features\n",
    "# atom position -- indicates the position of an atom in 3D cartesian space; this feature is useful as it gives our model insight into how the spacing between atoms and the lengths of bonds between a molecule's atoms are some of the determinants the molecule's potential energy"
   ]
  },
  {
   "cell_type": "code",
   "execution_count": 62,
   "metadata": {},
   "outputs": [],
   "source": [
    "\n",
    "# Features added from this paper (https://arxiv.org/pdf/1704.01212.pdf) Table 1\n",
    "'''\n",
    "According to table 1 of that paper, these are the features they use. We have already discovered the importance of\n",
    "both acceptor/donator of electrons as well as partial charges, thus we will for sure want to use those similar features\n",
    "\n",
    "Unfortunately, we could not get the acceptor/donor binary features in time, though we looked at the WeaveAtomFeaturizer to accomplish this\n",
    "\n",
    "Atom type        H, C, N, O, F (one-hot)\n",
    "Atomic number    Number of protons (integer)\n",
    "Acceptor         Accepts electrons (binary)\n",
    "Donor            Donates electrons (binary)\n",
    "Aromatic         In an aromatic system (binary)\n",
    "Hybridization    sp, sp2, sp3 (one-hot or null)\n",
    "Number of Hydrogens (integer)\n",
    "'''\n",
    "\n",
    "# To get our ROMol and get numhacceptors/donors working, would use PandasTools.AddMoleculeColumnToFrame(esol_data, smilesCol='smiles')\n",
    "\n",
    "def one_hot_to_value(one_hot_li):\n",
    "        for i in range(len(one_hot_li)):\n",
    "            if one_hot_li[i]:\n",
    "                return i\n",
    "        return -1\n",
    "    \n",
    "def get_energy(atom, atom_to_energy):\n",
    "    if atom not in atom_to_energy.keys():\n",
    "        try:\n",
    "            at = Chem.MolFromSmiles(atom)\n",
    "            AllChem.EmbedMolecule(at)\n",
    "            Chem.rdmolfiles.MolToXYZFile(atom_new, 'atom.xyz')\n",
    "            at = read(\"atom.xyz\")\n",
    "            at.calc = MOPAC(label='TMP', task='UHF BONDS GRADS')\n",
    "            atom_potential_energy = at.get_potential_energy()\n",
    "            \n",
    "            atom_to_energy[atom] = atom_potential_energy\n",
    "        except:\n",
    "            atom_to_energy[atom] = 0\n",
    "    \n",
    "    return atom_to_energy[atom]\n",
    "    \n",
    "\n",
    "def featurize_atoms(mol):\n",
    "\n",
    "    atom_to_energy = {}\n",
    "    atom_to_energy['H'] = -15.47146\n",
    "    feature_map = lambda atom, xyz, energy: [\n",
    "                                one_hot_to_value(featurizers.atom_type_one_hot(atom)), # One-hot to index-value of atom type\n",
    "                                atom.GetAtomicNum(),\n",
    "#                                 Chem.Descriptors.NumHAcceptors(atom),    # H-Bond acceptors\n",
    "#                                 Chem.Descriptors.NumHDonors(atom),    # H-Bond donors\n",
    "                                atom.GetIsAromatic(),\n",
    "                                one_hot_to_value(featurizers.atom_hybridization_one_hot(atom)), # Hybridization mentioned above\n",
    "                                atom.GetDegree(),\n",
    "                                atom.GetTotalDegree(),\n",
    "                                atom.GetExplicitValence(),\n",
    "                                atom.GetImplicitValence(),\n",
    "                                atom.GetTotalNumHs(),\n",
    "                                atom.GetFormalCharge(),\n",
    "                                atom.GetNumRadicalElectrons(),\n",
    "                                atom.IsInRing(), \n",
    "                                atom.GetMass() * 0.01,\n",
    "#                                 energy,\n",
    "                                xyz[0],\n",
    "                                xyz[1],\n",
    "                                xyz[2]\n",
    "                                ]\n",
    "    \n",
    "    feats = []\n",
    "    AllChem.EmbedMolecule(mol)\n",
    "    Chem.rdmolfiles.MolToXYZFile(mol, \"3Dembedded.xyz\")\n",
    "    empty = False\n",
    "    if os.stat(\"3Dembedded.xyz\").st_size == 0:\n",
    "        print('File is empty with mol', mol)\n",
    "        empty = True\n",
    "    else:\n",
    "        mol_ase = read(\"3Dembedded.xyz\")\n",
    "        pos = mol_ase.get_positions()\n",
    "    atom_count = 0\n",
    "    for atom in mol.GetAtoms():\n",
    "        if empty:\n",
    "            feats.append(feature_map(atom, [0,0,0], 0))\n",
    "        else:\n",
    "            energy = get_energy(atom.GetSymbol(), atom_to_energy)\n",
    "            feats.append(feature_map(atom, pos[atom_count], energy))\n",
    "        atom_count += 1\n",
    "    return {'atom_feats': torch.tensor(feats).reshape(-1, len(feats[0])).float()}"
   ]
  },
  {
   "cell_type": "code",
   "execution_count": 61,
   "metadata": {},
   "outputs": [],
   "source": [
    "def featurize_bonds(mol):\n",
    "    feats = []\n",
    "    bond_types = [Chem.rdchem.BondType.SINGLE, Chem.rdchem.BondType.DOUBLE,\n",
    "                  Chem.rdchem.BondType.TRIPLE, Chem.rdchem.BondType.AROMATIC]\n",
    "    for bond in mol.GetBonds():\n",
    "        btype = bond_types.index(bond.GetBondType())\n",
    "        is_conjugated = bond.GetIsConjugated()\n",
    "        is_in_ring = bond.IsInRing()\n",
    "        stereo_config = bond.GetStereo()\n",
    "        direction = bond.GetBondDir()\n",
    "        feats.extend([btype, btype])\n",
    "        feats.extend([is_conjugated, is_conjugated])\n",
    "        feats.extend([is_in_ring, is_in_ring])\n",
    "        feats.extend([stereo_config, stereo_config])\n",
    "        feats.extend([direction, direction])\n",
    "    return {'bond_feats': torch.tensor(feats).reshape(-1, 5)}"
   ]
  },
  {
   "cell_type": "markdown",
   "metadata": {},
   "source": [
    "### Generate Graph objects from our Dataset(s)"
   ]
  },
  {
   "cell_type": "code",
   "execution_count": 44,
   "metadata": {},
   "outputs": [],
   "source": [
    "from tqdm.notebook import tqdm"
   ]
  },
  {
   "cell_type": "code",
   "execution_count": 54,
   "metadata": {},
   "outputs": [],
   "source": [
    "def get_graphs(dataset_name):\n",
    "    df = pd.read_csv(dataset_name)\n",
    "    graphs =[]\n",
    "    for smile in tqdm(df[\"SMILES\"]):\n",
    "        graphs.append(smiles_to_bigraph(smile,\n",
    "                                       node_featurizer = featurize_atoms,\n",
    "                                       edge_featurizer = featurize_bonds,\n",
    "                                       explicit_hydrogens = True)\n",
    "                     )\n",
    "    return graphs"
   ]
  },
  {
   "cell_type": "code",
   "execution_count": 55,
   "metadata": {},
   "outputs": [
    {
     "data": {
      "application/vnd.jupyter.widget-view+json": {
       "model_id": "18358b9557ee4ea6836f7d02e747f046",
       "version_major": 2,
       "version_minor": 0
      },
      "text/plain": [
       "  0%|          | 0/13478 [00:00<?, ?it/s]"
      ]
     },
     "metadata": {},
     "output_type": "display_data"
    },
    {
     "name": "stdout",
     "output_type": "stream",
     "text": [
      "File is empty with mol <rdkit.Chem.rdchem.Mol object at 0x7ff92fbeee20>\n"
     ]
    }
   ],
   "source": [
    "graphs = get_graphs(\"Data/pe_data_combined.csv\")"
   ]
  },
  {
   "cell_type": "code",
   "execution_count": 51,
   "metadata": {},
   "outputs": [
    {
     "data": {
      "text/plain": [
       "(tensor([ 0,  1,  2,  3,  4,  5,  6,  7,  8,  9, 10, 11, 12, 13, 14, 15, 16, 17,\n",
       "         18, 19, 20, 21, 22, 23, 24, 25, 26, 27, 28, 29, 30, 31, 32, 33, 34, 35,\n",
       "         36, 37, 38, 39, 40, 41], dtype=torch.int32),\n",
       " tensor([1., 1., 6., 1., 1., 6., 1., 1., 1., 1., 1., 1., 1., 1., 1., 1., 1., 1.,\n",
       "         1., 1., 1., 1., 7., 6., 7., 6., 6., 6., 6., 6., 8., 6., 6., 6., 6., 6.,\n",
       "         6., 7., 6., 6., 6., 7.]))"
      ]
     },
     "execution_count": 51,
     "metadata": {},
     "output_type": "execute_result"
    }
   ],
   "source": [
    "# Visualize the nodes, the first column of atom features\n",
    "graphs[0].nodes(), graphs[0].ndata['atom_feats'][:,0]"
   ]
  },
  {
   "cell_type": "code",
   "execution_count": 52,
   "metadata": {},
   "outputs": [
    {
     "data": {
      "text/plain": [
       "Graph(num_nodes=24, num_edges=46,\n",
       "      ndata_schemes={'atom_feats': Scheme(shape=(11,), dtype=torch.float32)}\n",
       "      edata_schemes={'bond_feats': Scheme(shape=(5,), dtype=torch.int64)})"
      ]
     },
     "execution_count": 52,
     "metadata": {},
     "output_type": "execute_result"
    }
   ],
   "source": [
    "graphs[-1]"
   ]
  },
  {
   "cell_type": "code",
   "execution_count": 54,
   "metadata": {},
   "outputs": [
    {
     "data": {
      "text/plain": [
       "(tensor([24, 31, 31, 30, 31, 32, 32, 29, 29, 22, 22, 23, 23, 37, 37, 27, 27, 28,\n",
       "         28, 35, 35, 36, 36, 38, 38, 39, 39, 25, 25, 26, 36, 33, 33, 34, 34, 40,\n",
       "         40, 41, 41,  2,  2,  5, 37, 32, 26, 35,  5, 33, 33, 23, 24,  1, 24,  4,\n",
       "         29, 14, 27, 13, 27, 15, 28, 12, 28, 10, 38, 11, 39,  6, 25,  3, 26,  0,\n",
       "         34, 19, 34,  7, 40,  9, 40, 18, 41, 20,  2,  8,  2, 17,  5, 21,  5, 16],\n",
       "        dtype=torch.int32),\n",
       " tensor([[0, 0, 1, 1, 0],\n",
       "         [0, 0, 0, 0, 0],\n",
       "         [1, 1, 1, 1, 0],\n",
       "         [0, 0, 0, 0, 0]]))"
      ]
     },
     "execution_count": 54,
     "metadata": {},
     "output_type": "execute_result"
    }
   ],
   "source": [
    "graphs[0].edges()[0], graphs[0].edata['bond_feats'][:4]"
   ]
  },
  {
   "cell_type": "code",
   "execution_count": 56,
   "metadata": {},
   "outputs": [],
   "source": [
    "save_graphs(\"./DataGraphs/combined_graph_low_features.bin\", graphs)"
   ]
  },
  {
   "cell_type": "code",
   "execution_count": 57,
   "metadata": {},
   "outputs": [
    {
     "data": {
      "text/plain": [
       "<bound method DGLHeteroGraph.number_of_nodes of Graph(num_nodes=42, num_edges=90,\n",
       "      ndata_schemes={'atom_feats': Scheme(shape=(11,), dtype=torch.float32)}\n",
       "      edata_schemes={'bond_feats': Scheme(shape=(5,), dtype=torch.int64)})>"
      ]
     },
     "execution_count": 57,
     "metadata": {},
     "output_type": "execute_result"
    }
   ],
   "source": [
    "gs = load_graphs(\"./DataGraphs/pe_data_combined_graph.bin\")[0][0]\n",
    "gs.number_of_nodes"
   ]
  },
  {
   "cell_type": "code",
   "execution_count": null,
   "metadata": {},
   "outputs": [],
   "source": []
  }
 ],
 "metadata": {
  "kernelspec": {
   "display_name": "Python 3 (ipykernel)",
   "language": "python",
   "name": "python3"
  },
  "language_info": {
   "codemirror_mode": {
    "name": "ipython",
    "version": 3
   },
   "file_extension": ".py",
   "mimetype": "text/x-python",
   "name": "python",
   "nbconvert_exporter": "python",
   "pygments_lexer": "ipython3",
   "version": "3.9.7"
  }
 },
 "nbformat": 4,
 "nbformat_minor": 4
}
